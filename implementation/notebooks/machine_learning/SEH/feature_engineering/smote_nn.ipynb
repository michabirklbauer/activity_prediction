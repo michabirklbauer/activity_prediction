{
 "cells": [
  {
   "cell_type": "markdown",
   "metadata": {},
   "source": [
    "## KNN Approach\n",
    "\n"
   ]
  },
  {
   "cell_type": "markdown",
   "metadata": {},
   "source": [
    "### Setup"
   ]
  },
  {
   "cell_type": "code",
   "execution_count": 1,
   "metadata": {},
   "outputs": [
    {
     "name": "stderr",
     "output_type": "stream",
     "text": [
      "2024-05-06 22:32:32.781129: I tensorflow/core/util/port.cc:113] oneDNN custom operations are on. You may see slightly different numerical results due to floating-point round-off errors from different computation orders. To turn them off, set the environment variable `TF_ENABLE_ONEDNN_OPTS=0`.\n",
      "2024-05-06 22:32:32.812892: E external/local_xla/xla/stream_executor/cuda/cuda_dnn.cc:9261] Unable to register cuDNN factory: Attempting to register factory for plugin cuDNN when one has already been registered\n",
      "2024-05-06 22:32:32.812914: E external/local_xla/xla/stream_executor/cuda/cuda_fft.cc:607] Unable to register cuFFT factory: Attempting to register factory for plugin cuFFT when one has already been registered\n",
      "2024-05-06 22:32:32.814177: E external/local_xla/xla/stream_executor/cuda/cuda_blas.cc:1515] Unable to register cuBLAS factory: Attempting to register factory for plugin cuBLAS when one has already been registered\n",
      "2024-05-06 22:32:32.822078: I tensorflow/core/platform/cpu_feature_guard.cc:182] This TensorFlow binary is optimized to use available CPU instructions in performance-critical operations.\n",
      "To enable the following instructions: AVX2 AVX_VNNI FMA, in other operations, rebuild TensorFlow with the appropriate compiler flags.\n",
      "2024-05-06 22:32:33.488000: W tensorflow/compiler/tf2tensorrt/utils/py_utils.cc:38] TF-TRT Warning: Could not find TensorRT\n"
     ]
    }
   ],
   "source": [
    "import pandas as pd\n",
    "import numpy as np\n",
    "from sklearn.model_selection import train_test_split\n",
    "from sklearn import datasets\n",
    "\n",
    "from pathlib import Path\n",
    "import os\n",
    "\n",
    "import tensorflow as tf\n",
    "from sklearn.preprocessing import MinMaxScaler\n",
    "\n",
    "\n",
    "from pyMLaux import plot_history, evaluate_classification_result,plot_2d_prediction\n"
   ]
  },
  {
   "cell_type": "code",
   "execution_count": 2,
   "metadata": {},
   "outputs": [],
   "source": [
    "# read dynamic path\n",
    "base_dir = Path(os.getcwd())/\"implementation\"\n",
    "data_dir = base_dir / \"data/source/\"\n",
    "result_dir = base_dir / \"data/results/\""
   ]
  },
  {
   "cell_type": "markdown",
   "metadata": {},
   "source": [
    "### load & prepare dataset"
   ]
  },
  {
   "cell_type": "markdown",
   "metadata": {},
   "source": [
    "the following code needs to be adapted for each protein-ligand complex individually"
   ]
  },
  {
   "cell_type": "code",
   "execution_count": 3,
   "metadata": {},
   "outputs": [],
   "source": [
    "nn_data_raw_train = pd.read_csv(data_dir / \"SEH/seh_smote_train.csv\")\n",
    "nn_data_raw_test = pd.read_csv(data_dir / \"SEH/seh_smote_test.csv\")"
   ]
  },
  {
   "cell_type": "code",
   "execution_count": 4,
   "metadata": {},
   "outputs": [],
   "source": [
    "nn_data_train = {'data': np.array(nn_data_raw_train.iloc[:, 2:-1]),\n",
    "             'target': np.array(nn_data_raw_train.iloc[0:,-1]),\n",
    "             'feature_names': nn_data_raw_train.columns[2:-1],\n",
    "             'target_names': ['inactive', 'active']}\n",
    "\n",
    "nn_data_test = {'data': np.array(nn_data_raw_test.iloc[:, 2:-1]),\n",
    "             'target': np.array(nn_data_raw_test.iloc[0:,-1]),\n",
    "             'feature_names': nn_data_raw_test.columns[2:-1],\n",
    "             'target_names': ['inactive', 'active']}\n",
    "\n"
   ]
  },
  {
   "cell_type": "markdown",
   "metadata": {},
   "source": [
    "### train and apply neural network"
   ]
  },
  {
   "cell_type": "code",
   "execution_count": 5,
   "metadata": {},
   "outputs": [
    {
     "name": "stderr",
     "output_type": "stream",
     "text": [
      "2024-05-06 22:32:34.396206: I external/local_xla/xla/stream_executor/cuda/cuda_executor.cc:887] could not open file to read NUMA node: /sys/bus/pci/devices/0000:01:00.0/numa_node\n",
      "Your kernel may have been built without NUMA support.\n",
      "2024-05-06 22:32:34.426848: I external/local_xla/xla/stream_executor/cuda/cuda_executor.cc:887] could not open file to read NUMA node: /sys/bus/pci/devices/0000:01:00.0/numa_node\n",
      "Your kernel may have been built without NUMA support.\n",
      "2024-05-06 22:32:34.426901: I external/local_xla/xla/stream_executor/cuda/cuda_executor.cc:887] could not open file to read NUMA node: /sys/bus/pci/devices/0000:01:00.0/numa_node\n",
      "Your kernel may have been built without NUMA support.\n",
      "2024-05-06 22:32:34.430735: I external/local_xla/xla/stream_executor/cuda/cuda_executor.cc:887] could not open file to read NUMA node: /sys/bus/pci/devices/0000:01:00.0/numa_node\n",
      "Your kernel may have been built without NUMA support.\n",
      "2024-05-06 22:32:34.430916: I external/local_xla/xla/stream_executor/cuda/cuda_executor.cc:887] could not open file to read NUMA node: /sys/bus/pci/devices/0000:01:00.0/numa_node\n",
      "Your kernel may have been built without NUMA support.\n",
      "2024-05-06 22:32:34.430939: I external/local_xla/xla/stream_executor/cuda/cuda_executor.cc:887] could not open file to read NUMA node: /sys/bus/pci/devices/0000:01:00.0/numa_node\n",
      "Your kernel may have been built without NUMA support.\n",
      "2024-05-06 22:32:34.603816: I external/local_xla/xla/stream_executor/cuda/cuda_executor.cc:887] could not open file to read NUMA node: /sys/bus/pci/devices/0000:01:00.0/numa_node\n",
      "Your kernel may have been built without NUMA support.\n",
      "2024-05-06 22:32:34.603904: I external/local_xla/xla/stream_executor/cuda/cuda_executor.cc:887] could not open file to read NUMA node: /sys/bus/pci/devices/0000:01:00.0/numa_node\n",
      "Your kernel may have been built without NUMA support.\n",
      "2024-05-06 22:32:34.603910: I tensorflow/core/common_runtime/gpu/gpu_device.cc:2022] Could not identify NUMA node of platform GPU id 0, defaulting to 0.  Your kernel may not have been built with NUMA support.\n",
      "2024-05-06 22:32:34.603937: I external/local_xla/xla/stream_executor/cuda/cuda_executor.cc:887] could not open file to read NUMA node: /sys/bus/pci/devices/0000:01:00.0/numa_node\n",
      "Your kernel may have been built without NUMA support.\n",
      "2024-05-06 22:32:34.603954: I tensorflow/core/common_runtime/gpu/gpu_device.cc:1929] Created device /job:localhost/replica:0/task:0/device:GPU:0 with 397 MB memory:  -> device: 0, name: NVIDIA GeForce RTX 3050 Laptop GPU, pci bus id: 0000:01:00.0, compute capability: 8.6\n"
     ]
    },
    {
     "name": "stdout",
     "output_type": "stream",
     "text": [
      "Model: \"sequential\"\n",
      "_________________________________________________________________\n",
      " Layer (type)                Output Shape              Param #   \n",
      "=================================================================\n",
      " dense (Dense)               (None, 1)                 76        \n",
      "                                                                 \n",
      "=================================================================\n",
      "Total params: 76 (304.00 Byte)\n",
      "Trainable params: 76 (304.00 Byte)\n",
      "Non-trainable params: 0 (0.00 Byte)\n",
      "_________________________________________________________________\n"
     ]
    }
   ],
   "source": [
    "model = tf.keras.models.Sequential([\n",
    "    tf.keras.layers.Input(shape=(nn_data_train['data'].shape[1], )),\n",
    "    tf.keras.layers.Dense(1, activation='sigmoid')\n",
    "])\n",
    "\n",
    "model.compile(optimizer='adam',\n",
    "              loss='binary_crossentropy',\n",
    "              metrics=['accuracy'])\n",
    "\n",
    "model.summary()"
   ]
  },
  {
   "cell_type": "code",
   "execution_count": 6,
   "metadata": {},
   "outputs": [
    {
     "name": "stdout",
     "output_type": "stream",
     "text": [
      "Epoch 1/150\n"
     ]
    },
    {
     "name": "stderr",
     "output_type": "stream",
     "text": [
      "2024-05-06 22:32:35.475069: I external/local_tsl/tsl/platform/default/subprocess.cc:304] Start cannot spawn child process: No such file or directory\n",
      "2024-05-06 22:32:35.801654: I external/local_xla/xla/service/service.cc:168] XLA service 0x7f5cd152f710 initialized for platform CUDA (this does not guarantee that XLA will be used). Devices:\n",
      "2024-05-06 22:32:35.801686: I external/local_xla/xla/service/service.cc:176]   StreamExecutor device (0): NVIDIA GeForce RTX 3050 Laptop GPU, Compute Capability 8.6\n",
      "2024-05-06 22:32:35.806622: I tensorflow/compiler/mlir/tensorflow/utils/dump_mlir_util.cc:269] disabling MLIR crash reproducer, set env var `MLIR_CRASH_REPRODUCER_DIRECTORY` to enable.\n",
      "2024-05-06 22:32:35.820806: I external/local_xla/xla/stream_executor/cuda/cuda_dnn.cc:454] Loaded cuDNN version 8904\n",
      "WARNING: All log messages before absl::InitializeLog() is called are written to STDERR\n",
      "I0000 00:00:1715027555.886509   19672 device_compiler.h:186] Compiled cluster using XLA!  This line is logged at most once for the lifetime of the process.\n"
     ]
    },
    {
     "name": "stdout",
     "output_type": "stream",
     "text": [
      "7/7 - 1s - loss: 0.7431 - accuracy: 0.4364 - val_loss: 0.7425 - val_accuracy: 0.4286 - 1s/epoch - 163ms/step\n",
      "Epoch 2/150\n",
      "7/7 - 0s - loss: 0.7293 - accuracy: 0.5000 - val_loss: 0.7239 - val_accuracy: 0.5000 - 65ms/epoch - 9ms/step\n",
      "Epoch 3/150\n",
      "7/7 - 0s - loss: 0.7166 - accuracy: 0.5091 - val_loss: 0.7069 - val_accuracy: 0.5357 - 48ms/epoch - 7ms/step\n",
      "Epoch 4/150\n",
      "7/7 - 0s - loss: 0.7058 - accuracy: 0.5273 - val_loss: 0.6911 - val_accuracy: 0.5714 - 45ms/epoch - 6ms/step\n",
      "Epoch 5/150\n",
      "7/7 - 0s - loss: 0.6960 - accuracy: 0.5364 - val_loss: 0.6769 - val_accuracy: 0.6071 - 48ms/epoch - 7ms/step\n",
      "Epoch 6/150\n",
      "7/7 - 0s - loss: 0.6869 - accuracy: 0.5545 - val_loss: 0.6636 - val_accuracy: 0.6429 - 46ms/epoch - 7ms/step\n",
      "Epoch 7/150\n",
      "7/7 - 0s - loss: 0.6778 - accuracy: 0.5727 - val_loss: 0.6521 - val_accuracy: 0.6429 - 46ms/epoch - 7ms/step\n",
      "Epoch 8/150\n",
      "7/7 - 0s - loss: 0.6711 - accuracy: 0.5818 - val_loss: 0.6405 - val_accuracy: 0.6071 - 46ms/epoch - 7ms/step\n",
      "Epoch 9/150\n",
      "7/7 - 0s - loss: 0.6641 - accuracy: 0.5909 - val_loss: 0.6297 - val_accuracy: 0.6071 - 43ms/epoch - 6ms/step\n",
      "Epoch 10/150\n",
      "7/7 - 0s - loss: 0.6572 - accuracy: 0.6091 - val_loss: 0.6210 - val_accuracy: 0.6071 - 44ms/epoch - 6ms/step\n",
      "Epoch 11/150\n",
      "7/7 - 0s - loss: 0.6521 - accuracy: 0.6455 - val_loss: 0.6119 - val_accuracy: 0.6429 - 50ms/epoch - 7ms/step\n",
      "Epoch 12/150\n",
      "7/7 - 0s - loss: 0.6461 - accuracy: 0.6545 - val_loss: 0.6046 - val_accuracy: 0.6429 - 47ms/epoch - 7ms/step\n",
      "Epoch 13/150\n",
      "7/7 - 0s - loss: 0.6419 - accuracy: 0.6636 - val_loss: 0.5969 - val_accuracy: 0.6786 - 48ms/epoch - 7ms/step\n",
      "Epoch 14/150\n",
      "7/7 - 0s - loss: 0.6372 - accuracy: 0.6545 - val_loss: 0.5899 - val_accuracy: 0.6786 - 42ms/epoch - 6ms/step\n",
      "Epoch 15/150\n",
      "7/7 - 0s - loss: 0.6328 - accuracy: 0.6818 - val_loss: 0.5839 - val_accuracy: 0.7500 - 44ms/epoch - 6ms/step\n",
      "Epoch 16/150\n",
      "7/7 - 0s - loss: 0.6296 - accuracy: 0.7000 - val_loss: 0.5778 - val_accuracy: 0.7500 - 44ms/epoch - 6ms/step\n",
      "Epoch 17/150\n",
      "7/7 - 0s - loss: 0.6257 - accuracy: 0.6909 - val_loss: 0.5726 - val_accuracy: 0.7857 - 47ms/epoch - 7ms/step\n",
      "Epoch 18/150\n",
      "7/7 - 0s - loss: 0.6221 - accuracy: 0.6909 - val_loss: 0.5685 - val_accuracy: 0.7857 - 47ms/epoch - 7ms/step\n",
      "Epoch 19/150\n",
      "7/7 - 0s - loss: 0.6191 - accuracy: 0.6818 - val_loss: 0.5642 - val_accuracy: 0.7857 - 45ms/epoch - 6ms/step\n",
      "Epoch 20/150\n",
      "7/7 - 0s - loss: 0.6159 - accuracy: 0.6818 - val_loss: 0.5604 - val_accuracy: 0.7857 - 45ms/epoch - 6ms/step\n",
      "Epoch 21/150\n",
      "7/7 - 0s - loss: 0.6135 - accuracy: 0.6909 - val_loss: 0.5565 - val_accuracy: 0.8214 - 47ms/epoch - 7ms/step\n",
      "Epoch 22/150\n",
      "7/7 - 0s - loss: 0.6105 - accuracy: 0.7000 - val_loss: 0.5537 - val_accuracy: 0.8214 - 48ms/epoch - 7ms/step\n",
      "Epoch 23/150\n",
      "7/7 - 0s - loss: 0.6080 - accuracy: 0.7000 - val_loss: 0.5504 - val_accuracy: 0.8214 - 63ms/epoch - 9ms/step\n",
      "Epoch 24/150\n",
      "7/7 - 0s - loss: 0.6058 - accuracy: 0.7000 - val_loss: 0.5468 - val_accuracy: 0.8214 - 45ms/epoch - 6ms/step\n",
      "Epoch 25/150\n",
      "7/7 - 0s - loss: 0.6030 - accuracy: 0.7000 - val_loss: 0.5442 - val_accuracy: 0.8214 - 45ms/epoch - 6ms/step\n",
      "Epoch 26/150\n",
      "7/7 - 0s - loss: 0.6009 - accuracy: 0.7000 - val_loss: 0.5414 - val_accuracy: 0.8214 - 45ms/epoch - 6ms/step\n",
      "Epoch 27/150\n",
      "7/7 - 0s - loss: 0.5986 - accuracy: 0.7000 - val_loss: 0.5393 - val_accuracy: 0.8214 - 42ms/epoch - 6ms/step\n",
      "Epoch 28/150\n",
      "7/7 - 0s - loss: 0.5964 - accuracy: 0.7000 - val_loss: 0.5374 - val_accuracy: 0.8214 - 47ms/epoch - 7ms/step\n",
      "Epoch 29/150\n",
      "7/7 - 0s - loss: 0.5943 - accuracy: 0.7000 - val_loss: 0.5347 - val_accuracy: 0.8214 - 46ms/epoch - 7ms/step\n",
      "Epoch 30/150\n",
      "7/7 - 0s - loss: 0.5924 - accuracy: 0.7000 - val_loss: 0.5324 - val_accuracy: 0.8214 - 43ms/epoch - 6ms/step\n",
      "Epoch 31/150\n",
      "7/7 - 0s - loss: 0.5901 - accuracy: 0.7091 - val_loss: 0.5311 - val_accuracy: 0.8214 - 45ms/epoch - 6ms/step\n",
      "Epoch 32/150\n",
      "7/7 - 0s - loss: 0.5883 - accuracy: 0.7091 - val_loss: 0.5295 - val_accuracy: 0.8214 - 42ms/epoch - 6ms/step\n",
      "Epoch 33/150\n",
      "7/7 - 0s - loss: 0.5863 - accuracy: 0.7091 - val_loss: 0.5285 - val_accuracy: 0.8214 - 42ms/epoch - 6ms/step\n",
      "Epoch 34/150\n",
      "7/7 - 0s - loss: 0.5844 - accuracy: 0.7091 - val_loss: 0.5269 - val_accuracy: 0.8214 - 44ms/epoch - 6ms/step\n",
      "Epoch 35/150\n",
      "7/7 - 0s - loss: 0.5827 - accuracy: 0.7182 - val_loss: 0.5251 - val_accuracy: 0.8214 - 43ms/epoch - 6ms/step\n",
      "Epoch 36/150\n",
      "7/7 - 0s - loss: 0.5808 - accuracy: 0.7182 - val_loss: 0.5232 - val_accuracy: 0.8214 - 45ms/epoch - 6ms/step\n",
      "Epoch 37/150\n",
      "7/7 - 0s - loss: 0.5791 - accuracy: 0.7182 - val_loss: 0.5215 - val_accuracy: 0.8214 - 58ms/epoch - 8ms/step\n",
      "Epoch 38/150\n",
      "7/7 - 0s - loss: 0.5771 - accuracy: 0.7182 - val_loss: 0.5211 - val_accuracy: 0.8214 - 47ms/epoch - 7ms/step\n",
      "Epoch 39/150\n",
      "7/7 - 0s - loss: 0.5753 - accuracy: 0.7182 - val_loss: 0.5207 - val_accuracy: 0.8214 - 46ms/epoch - 7ms/step\n",
      "Epoch 40/150\n",
      "7/7 - 0s - loss: 0.5735 - accuracy: 0.7182 - val_loss: 0.5199 - val_accuracy: 0.8214 - 45ms/epoch - 6ms/step\n",
      "Epoch 41/150\n",
      "7/7 - 0s - loss: 0.5720 - accuracy: 0.7182 - val_loss: 0.5187 - val_accuracy: 0.8214 - 42ms/epoch - 6ms/step\n",
      "Epoch 42/150\n",
      "7/7 - 0s - loss: 0.5701 - accuracy: 0.7182 - val_loss: 0.5177 - val_accuracy: 0.8214 - 44ms/epoch - 6ms/step\n",
      "Epoch 43/150\n",
      "7/7 - 0s - loss: 0.5685 - accuracy: 0.7182 - val_loss: 0.5173 - val_accuracy: 0.8214 - 44ms/epoch - 6ms/step\n",
      "Epoch 44/150\n",
      "7/7 - 0s - loss: 0.5668 - accuracy: 0.7182 - val_loss: 0.5168 - val_accuracy: 0.8214 - 45ms/epoch - 6ms/step\n",
      "Epoch 45/150\n",
      "7/7 - 0s - loss: 0.5651 - accuracy: 0.7182 - val_loss: 0.5156 - val_accuracy: 0.8214 - 46ms/epoch - 7ms/step\n",
      "Epoch 46/150\n",
      "7/7 - 0s - loss: 0.5635 - accuracy: 0.7273 - val_loss: 0.5148 - val_accuracy: 0.8214 - 58ms/epoch - 8ms/step\n",
      "Epoch 47/150\n",
      "7/7 - 0s - loss: 0.5619 - accuracy: 0.7273 - val_loss: 0.5133 - val_accuracy: 0.8214 - 44ms/epoch - 6ms/step\n",
      "Epoch 48/150\n",
      "7/7 - 0s - loss: 0.5602 - accuracy: 0.7273 - val_loss: 0.5129 - val_accuracy: 0.8214 - 44ms/epoch - 6ms/step\n",
      "Epoch 49/150\n",
      "7/7 - 0s - loss: 0.5587 - accuracy: 0.7273 - val_loss: 0.5123 - val_accuracy: 0.8214 - 46ms/epoch - 7ms/step\n",
      "Epoch 50/150\n",
      "7/7 - 0s - loss: 0.5572 - accuracy: 0.7273 - val_loss: 0.5124 - val_accuracy: 0.8214 - 46ms/epoch - 7ms/step\n",
      "Epoch 51/150\n",
      "7/7 - 0s - loss: 0.5555 - accuracy: 0.7273 - val_loss: 0.5118 - val_accuracy: 0.8571 - 44ms/epoch - 6ms/step\n",
      "Epoch 52/150\n",
      "7/7 - 0s - loss: 0.5541 - accuracy: 0.7273 - val_loss: 0.5105 - val_accuracy: 0.8571 - 43ms/epoch - 6ms/step\n",
      "Epoch 53/150\n",
      "7/7 - 0s - loss: 0.5526 - accuracy: 0.7273 - val_loss: 0.5106 - val_accuracy: 0.8571 - 42ms/epoch - 6ms/step\n",
      "Epoch 54/150\n",
      "7/7 - 0s - loss: 0.5511 - accuracy: 0.7273 - val_loss: 0.5097 - val_accuracy: 0.8571 - 44ms/epoch - 6ms/step\n",
      "Epoch 55/150\n",
      "7/7 - 0s - loss: 0.5495 - accuracy: 0.7273 - val_loss: 0.5093 - val_accuracy: 0.8571 - 44ms/epoch - 6ms/step\n",
      "Epoch 56/150\n",
      "7/7 - 0s - loss: 0.5479 - accuracy: 0.7273 - val_loss: 0.5089 - val_accuracy: 0.8571 - 53ms/epoch - 8ms/step\n",
      "Epoch 57/150\n",
      "7/7 - 0s - loss: 0.5465 - accuracy: 0.7273 - val_loss: 0.5087 - val_accuracy: 0.8571 - 49ms/epoch - 7ms/step\n",
      "Epoch 58/150\n",
      "7/7 - 0s - loss: 0.5451 - accuracy: 0.7273 - val_loss: 0.5084 - val_accuracy: 0.8571 - 53ms/epoch - 8ms/step\n",
      "Epoch 59/150\n",
      "7/7 - 0s - loss: 0.5436 - accuracy: 0.7273 - val_loss: 0.5083 - val_accuracy: 0.8571 - 52ms/epoch - 7ms/step\n",
      "Epoch 60/150\n",
      "7/7 - 0s - loss: 0.5422 - accuracy: 0.7273 - val_loss: 0.5072 - val_accuracy: 0.8571 - 49ms/epoch - 7ms/step\n",
      "Epoch 61/150\n",
      "7/7 - 0s - loss: 0.5408 - accuracy: 0.7273 - val_loss: 0.5068 - val_accuracy: 0.8571 - 49ms/epoch - 7ms/step\n",
      "Epoch 62/150\n",
      "7/7 - 0s - loss: 0.5394 - accuracy: 0.7273 - val_loss: 0.5061 - val_accuracy: 0.8571 - 50ms/epoch - 7ms/step\n",
      "Epoch 63/150\n",
      "7/7 - 0s - loss: 0.5380 - accuracy: 0.7364 - val_loss: 0.5058 - val_accuracy: 0.8571 - 50ms/epoch - 7ms/step\n",
      "Epoch 64/150\n",
      "7/7 - 0s - loss: 0.5366 - accuracy: 0.7364 - val_loss: 0.5054 - val_accuracy: 0.8571 - 53ms/epoch - 8ms/step\n",
      "Epoch 65/150\n",
      "7/7 - 0s - loss: 0.5352 - accuracy: 0.7364 - val_loss: 0.5049 - val_accuracy: 0.8571 - 61ms/epoch - 9ms/step\n",
      "Epoch 66/150\n",
      "7/7 - 0s - loss: 0.5339 - accuracy: 0.7364 - val_loss: 0.5048 - val_accuracy: 0.8571 - 57ms/epoch - 8ms/step\n",
      "Epoch 67/150\n",
      "7/7 - 0s - loss: 0.5325 - accuracy: 0.7364 - val_loss: 0.5044 - val_accuracy: 0.8571 - 43ms/epoch - 6ms/step\n",
      "Epoch 68/150\n",
      "7/7 - 0s - loss: 0.5311 - accuracy: 0.7364 - val_loss: 0.5040 - val_accuracy: 0.8571 - 44ms/epoch - 6ms/step\n",
      "Epoch 69/150\n",
      "7/7 - 0s - loss: 0.5300 - accuracy: 0.7273 - val_loss: 0.5042 - val_accuracy: 0.8571 - 47ms/epoch - 7ms/step\n",
      "Epoch 70/150\n",
      "7/7 - 0s - loss: 0.5285 - accuracy: 0.7273 - val_loss: 0.5038 - val_accuracy: 0.8571 - 52ms/epoch - 7ms/step\n",
      "Epoch 71/150\n",
      "7/7 - 0s - loss: 0.5274 - accuracy: 0.7273 - val_loss: 0.5045 - val_accuracy: 0.8571 - 51ms/epoch - 7ms/step\n",
      "Epoch 72/150\n",
      "7/7 - 0s - loss: 0.5260 - accuracy: 0.7273 - val_loss: 0.5041 - val_accuracy: 0.8571 - 49ms/epoch - 7ms/step\n",
      "Epoch 73/150\n",
      "7/7 - 0s - loss: 0.5246 - accuracy: 0.7273 - val_loss: 0.5029 - val_accuracy: 0.8571 - 45ms/epoch - 6ms/step\n",
      "Epoch 74/150\n",
      "7/7 - 0s - loss: 0.5234 - accuracy: 0.7273 - val_loss: 0.5026 - val_accuracy: 0.8571 - 42ms/epoch - 6ms/step\n",
      "Epoch 75/150\n",
      "7/7 - 0s - loss: 0.5223 - accuracy: 0.7273 - val_loss: 0.5027 - val_accuracy: 0.8571 - 43ms/epoch - 6ms/step\n",
      "Epoch 76/150\n",
      "7/7 - 0s - loss: 0.5208 - accuracy: 0.7273 - val_loss: 0.5021 - val_accuracy: 0.8571 - 41ms/epoch - 6ms/step\n",
      "Epoch 77/150\n",
      "7/7 - 0s - loss: 0.5196 - accuracy: 0.7364 - val_loss: 0.5014 - val_accuracy: 0.8571 - 43ms/epoch - 6ms/step\n",
      "Epoch 78/150\n",
      "7/7 - 0s - loss: 0.5184 - accuracy: 0.7364 - val_loss: 0.5010 - val_accuracy: 0.8571 - 42ms/epoch - 6ms/step\n",
      "Epoch 79/150\n",
      "7/7 - 0s - loss: 0.5173 - accuracy: 0.7364 - val_loss: 0.4998 - val_accuracy: 0.8571 - 42ms/epoch - 6ms/step\n",
      "Epoch 80/150\n",
      "7/7 - 0s - loss: 0.5161 - accuracy: 0.7364 - val_loss: 0.5001 - val_accuracy: 0.8571 - 46ms/epoch - 7ms/step\n",
      "Epoch 81/150\n",
      "7/7 - 0s - loss: 0.5148 - accuracy: 0.7364 - val_loss: 0.4998 - val_accuracy: 0.8571 - 50ms/epoch - 7ms/step\n",
      "Epoch 82/150\n",
      "7/7 - 0s - loss: 0.5136 - accuracy: 0.7364 - val_loss: 0.4997 - val_accuracy: 0.8571 - 48ms/epoch - 7ms/step\n",
      "Epoch 83/150\n",
      "7/7 - 0s - loss: 0.5124 - accuracy: 0.7364 - val_loss: 0.4995 - val_accuracy: 0.8571 - 49ms/epoch - 7ms/step\n",
      "Epoch 84/150\n",
      "7/7 - 0s - loss: 0.5113 - accuracy: 0.7364 - val_loss: 0.4994 - val_accuracy: 0.8571 - 49ms/epoch - 7ms/step\n",
      "Epoch 85/150\n",
      "7/7 - 0s - loss: 0.5101 - accuracy: 0.7364 - val_loss: 0.4993 - val_accuracy: 0.8571 - 47ms/epoch - 7ms/step\n",
      "Epoch 86/150\n",
      "7/7 - 0s - loss: 0.5089 - accuracy: 0.7364 - val_loss: 0.4984 - val_accuracy: 0.8571 - 43ms/epoch - 6ms/step\n",
      "Epoch 87/150\n",
      "7/7 - 0s - loss: 0.5077 - accuracy: 0.7364 - val_loss: 0.4984 - val_accuracy: 0.8571 - 45ms/epoch - 6ms/step\n",
      "Epoch 88/150\n",
      "7/7 - 0s - loss: 0.5067 - accuracy: 0.7364 - val_loss: 0.4976 - val_accuracy: 0.8571 - 44ms/epoch - 6ms/step\n",
      "Epoch 89/150\n",
      "7/7 - 0s - loss: 0.5056 - accuracy: 0.7455 - val_loss: 0.4979 - val_accuracy: 0.8571 - 44ms/epoch - 6ms/step\n",
      "Epoch 90/150\n",
      "7/7 - 0s - loss: 0.5043 - accuracy: 0.7455 - val_loss: 0.4976 - val_accuracy: 0.8571 - 48ms/epoch - 7ms/step\n",
      "Epoch 91/150\n",
      "7/7 - 0s - loss: 0.5034 - accuracy: 0.7455 - val_loss: 0.4975 - val_accuracy: 0.8571 - 50ms/epoch - 7ms/step\n",
      "Epoch 92/150\n",
      "7/7 - 0s - loss: 0.5023 - accuracy: 0.7455 - val_loss: 0.4977 - val_accuracy: 0.8571 - 51ms/epoch - 7ms/step\n",
      "Epoch 93/150\n",
      "7/7 - 0s - loss: 0.5012 - accuracy: 0.7455 - val_loss: 0.4976 - val_accuracy: 0.8571 - 49ms/epoch - 7ms/step\n",
      "Epoch 94/150\n",
      "7/7 - 0s - loss: 0.5000 - accuracy: 0.7545 - val_loss: 0.4972 - val_accuracy: 0.8571 - 46ms/epoch - 7ms/step\n",
      "Epoch 95/150\n",
      "7/7 - 0s - loss: 0.4990 - accuracy: 0.7545 - val_loss: 0.4972 - val_accuracy: 0.8571 - 48ms/epoch - 7ms/step\n",
      "Epoch 96/150\n",
      "7/7 - 0s - loss: 0.4979 - accuracy: 0.7636 - val_loss: 0.4968 - val_accuracy: 0.8571 - 45ms/epoch - 6ms/step\n",
      "Epoch 97/150\n",
      "7/7 - 0s - loss: 0.4970 - accuracy: 0.7636 - val_loss: 0.4974 - val_accuracy: 0.8571 - 51ms/epoch - 7ms/step\n",
      "Epoch 98/150\n",
      "7/7 - 0s - loss: 0.4957 - accuracy: 0.7636 - val_loss: 0.4966 - val_accuracy: 0.8571 - 57ms/epoch - 8ms/step\n",
      "Epoch 99/150\n",
      "7/7 - 0s - loss: 0.4948 - accuracy: 0.7636 - val_loss: 0.4963 - val_accuracy: 0.8571 - 60ms/epoch - 9ms/step\n",
      "Epoch 100/150\n",
      "7/7 - 0s - loss: 0.4937 - accuracy: 0.7636 - val_loss: 0.4960 - val_accuracy: 0.8571 - 57ms/epoch - 8ms/step\n",
      "Epoch 101/150\n",
      "7/7 - 0s - loss: 0.4927 - accuracy: 0.7636 - val_loss: 0.4952 - val_accuracy: 0.8571 - 55ms/epoch - 8ms/step\n",
      "Epoch 102/150\n",
      "7/7 - 0s - loss: 0.4918 - accuracy: 0.7636 - val_loss: 0.4958 - val_accuracy: 0.8571 - 58ms/epoch - 8ms/step\n",
      "Epoch 103/150\n",
      "7/7 - 0s - loss: 0.4907 - accuracy: 0.7727 - val_loss: 0.4949 - val_accuracy: 0.8571 - 60ms/epoch - 9ms/step\n",
      "Epoch 104/150\n",
      "7/7 - 0s - loss: 0.4898 - accuracy: 0.7727 - val_loss: 0.4950 - val_accuracy: 0.8571 - 83ms/epoch - 12ms/step\n",
      "Epoch 105/150\n",
      "7/7 - 0s - loss: 0.4888 - accuracy: 0.7727 - val_loss: 0.4951 - val_accuracy: 0.8571 - 102ms/epoch - 15ms/step\n",
      "Epoch 106/150\n",
      "7/7 - 0s - loss: 0.4877 - accuracy: 0.7727 - val_loss: 0.4949 - val_accuracy: 0.8571 - 81ms/epoch - 12ms/step\n",
      "Epoch 107/150\n",
      "7/7 - 0s - loss: 0.4867 - accuracy: 0.7636 - val_loss: 0.4947 - val_accuracy: 0.8571 - 79ms/epoch - 11ms/step\n",
      "Epoch 108/150\n",
      "7/7 - 0s - loss: 0.4857 - accuracy: 0.7636 - val_loss: 0.4941 - val_accuracy: 0.8571 - 78ms/epoch - 11ms/step\n",
      "Epoch 109/150\n",
      "7/7 - 0s - loss: 0.4847 - accuracy: 0.7636 - val_loss: 0.4937 - val_accuracy: 0.8571 - 75ms/epoch - 11ms/step\n",
      "Epoch 110/150\n",
      "7/7 - 0s - loss: 0.4838 - accuracy: 0.7636 - val_loss: 0.4939 - val_accuracy: 0.8571 - 90ms/epoch - 13ms/step\n",
      "Epoch 111/150\n",
      "7/7 - 0s - loss: 0.4829 - accuracy: 0.7636 - val_loss: 0.4933 - val_accuracy: 0.8571 - 112ms/epoch - 16ms/step\n",
      "Epoch 112/150\n",
      "7/7 - 0s - loss: 0.4818 - accuracy: 0.7636 - val_loss: 0.4930 - val_accuracy: 0.8571 - 93ms/epoch - 13ms/step\n",
      "Epoch 113/150\n",
      "7/7 - 0s - loss: 0.4809 - accuracy: 0.7727 - val_loss: 0.4932 - val_accuracy: 0.8571 - 94ms/epoch - 13ms/step\n",
      "Epoch 114/150\n",
      "7/7 - 0s - loss: 0.4800 - accuracy: 0.7818 - val_loss: 0.4936 - val_accuracy: 0.8571 - 87ms/epoch - 12ms/step\n",
      "Epoch 115/150\n",
      "7/7 - 0s - loss: 0.4791 - accuracy: 0.7818 - val_loss: 0.4936 - val_accuracy: 0.8571 - 84ms/epoch - 12ms/step\n",
      "Epoch 116/150\n",
      "7/7 - 0s - loss: 0.4783 - accuracy: 0.7818 - val_loss: 0.4944 - val_accuracy: 0.8571 - 87ms/epoch - 12ms/step\n",
      "Epoch 117/150\n",
      "7/7 - 0s - loss: 0.4772 - accuracy: 0.7818 - val_loss: 0.4942 - val_accuracy: 0.8571 - 84ms/epoch - 12ms/step\n",
      "Epoch 118/150\n",
      "7/7 - 0s - loss: 0.4764 - accuracy: 0.7818 - val_loss: 0.4941 - val_accuracy: 0.8571 - 91ms/epoch - 13ms/step\n",
      "Epoch 119/150\n",
      "7/7 - 0s - loss: 0.4754 - accuracy: 0.7818 - val_loss: 0.4937 - val_accuracy: 0.8571 - 86ms/epoch - 12ms/step\n",
      "Epoch 120/150\n",
      "7/7 - 0s - loss: 0.4745 - accuracy: 0.7818 - val_loss: 0.4927 - val_accuracy: 0.8571 - 91ms/epoch - 13ms/step\n",
      "Epoch 121/150\n",
      "7/7 - 0s - loss: 0.4736 - accuracy: 0.7818 - val_loss: 0.4929 - val_accuracy: 0.8571 - 90ms/epoch - 13ms/step\n",
      "Epoch 122/150\n",
      "7/7 - 0s - loss: 0.4727 - accuracy: 0.7818 - val_loss: 0.4922 - val_accuracy: 0.8571 - 85ms/epoch - 12ms/step\n",
      "Epoch 123/150\n",
      "7/7 - 0s - loss: 0.4718 - accuracy: 0.7818 - val_loss: 0.4919 - val_accuracy: 0.8571 - 88ms/epoch - 13ms/step\n",
      "Epoch 124/150\n",
      "7/7 - 0s - loss: 0.4711 - accuracy: 0.7818 - val_loss: 0.4910 - val_accuracy: 0.8571 - 95ms/epoch - 14ms/step\n",
      "Epoch 125/150\n",
      "7/7 - 0s - loss: 0.4701 - accuracy: 0.7909 - val_loss: 0.4913 - val_accuracy: 0.8571 - 84ms/epoch - 12ms/step\n",
      "Epoch 126/150\n",
      "7/7 - 0s - loss: 0.4692 - accuracy: 0.7909 - val_loss: 0.4909 - val_accuracy: 0.8571 - 103ms/epoch - 15ms/step\n",
      "Epoch 127/150\n",
      "7/7 - 0s - loss: 0.4686 - accuracy: 0.7909 - val_loss: 0.4918 - val_accuracy: 0.8929 - 92ms/epoch - 13ms/step\n",
      "Epoch 128/150\n",
      "7/7 - 0s - loss: 0.4675 - accuracy: 0.7909 - val_loss: 0.4918 - val_accuracy: 0.8929 - 100ms/epoch - 14ms/step\n",
      "Epoch 129/150\n",
      "7/7 - 0s - loss: 0.4667 - accuracy: 0.7909 - val_loss: 0.4915 - val_accuracy: 0.8929 - 102ms/epoch - 15ms/step\n",
      "Epoch 130/150\n",
      "7/7 - 0s - loss: 0.4658 - accuracy: 0.7909 - val_loss: 0.4907 - val_accuracy: 0.8929 - 84ms/epoch - 12ms/step\n",
      "Epoch 131/150\n",
      "7/7 - 0s - loss: 0.4650 - accuracy: 0.7909 - val_loss: 0.4906 - val_accuracy: 0.8929 - 97ms/epoch - 14ms/step\n",
      "Epoch 132/150\n",
      "7/7 - 0s - loss: 0.4643 - accuracy: 0.7909 - val_loss: 0.4913 - val_accuracy: 0.8929 - 87ms/epoch - 12ms/step\n",
      "Epoch 133/150\n",
      "7/7 - 0s - loss: 0.4633 - accuracy: 0.7909 - val_loss: 0.4909 - val_accuracy: 0.8929 - 92ms/epoch - 13ms/step\n",
      "Epoch 134/150\n",
      "7/7 - 0s - loss: 0.4625 - accuracy: 0.7909 - val_loss: 0.4904 - val_accuracy: 0.8929 - 86ms/epoch - 12ms/step\n",
      "Epoch 135/150\n",
      "7/7 - 0s - loss: 0.4617 - accuracy: 0.7909 - val_loss: 0.4903 - val_accuracy: 0.8929 - 85ms/epoch - 12ms/step\n",
      "Epoch 136/150\n",
      "7/7 - 0s - loss: 0.4609 - accuracy: 0.8000 - val_loss: 0.4893 - val_accuracy: 0.8929 - 85ms/epoch - 12ms/step\n",
      "Epoch 137/150\n",
      "7/7 - 0s - loss: 0.4601 - accuracy: 0.8000 - val_loss: 0.4891 - val_accuracy: 0.8929 - 87ms/epoch - 12ms/step\n",
      "Epoch 138/150\n",
      "7/7 - 0s - loss: 0.4593 - accuracy: 0.8000 - val_loss: 0.4888 - val_accuracy: 0.8929 - 88ms/epoch - 13ms/step\n",
      "Epoch 139/150\n",
      "7/7 - 0s - loss: 0.4585 - accuracy: 0.8000 - val_loss: 0.4894 - val_accuracy: 0.8929 - 90ms/epoch - 13ms/step\n",
      "Epoch 140/150\n",
      "7/7 - 0s - loss: 0.4577 - accuracy: 0.8000 - val_loss: 0.4898 - val_accuracy: 0.8929 - 80ms/epoch - 11ms/step\n",
      "Epoch 141/150\n",
      "7/7 - 0s - loss: 0.4569 - accuracy: 0.8000 - val_loss: 0.4899 - val_accuracy: 0.8929 - 80ms/epoch - 11ms/step\n",
      "Epoch 142/150\n",
      "7/7 - 0s - loss: 0.4562 - accuracy: 0.8000 - val_loss: 0.4887 - val_accuracy: 0.8929 - 79ms/epoch - 11ms/step\n",
      "Epoch 143/150\n",
      "7/7 - 0s - loss: 0.4555 - accuracy: 0.8000 - val_loss: 0.4895 - val_accuracy: 0.8929 - 87ms/epoch - 12ms/step\n",
      "Epoch 144/150\n",
      "7/7 - 0s - loss: 0.4546 - accuracy: 0.8000 - val_loss: 0.4887 - val_accuracy: 0.8929 - 89ms/epoch - 13ms/step\n",
      "Epoch 145/150\n",
      "7/7 - 0s - loss: 0.4538 - accuracy: 0.8000 - val_loss: 0.4892 - val_accuracy: 0.8929 - 84ms/epoch - 12ms/step\n",
      "Epoch 146/150\n",
      "7/7 - 0s - loss: 0.4530 - accuracy: 0.8000 - val_loss: 0.4890 - val_accuracy: 0.8929 - 87ms/epoch - 12ms/step\n",
      "Epoch 147/150\n",
      "7/7 - 0s - loss: 0.4523 - accuracy: 0.8000 - val_loss: 0.4894 - val_accuracy: 0.8929 - 99ms/epoch - 14ms/step\n",
      "Epoch 148/150\n",
      "7/7 - 0s - loss: 0.4516 - accuracy: 0.8000 - val_loss: 0.4897 - val_accuracy: 0.8929 - 84ms/epoch - 12ms/step\n",
      "Epoch 149/150\n",
      "7/7 - 0s - loss: 0.4507 - accuracy: 0.8000 - val_loss: 0.4892 - val_accuracy: 0.8571 - 81ms/epoch - 12ms/step\n",
      "Epoch 150/150\n",
      "7/7 - 0s - loss: 0.4502 - accuracy: 0.8000 - val_loss: 0.4881 - val_accuracy: 0.8571 - 92ms/epoch - 13ms/step\n"
     ]
    },
    {
     "data": {
      "image/png": "[encoded data removed]",
      "text/plain": [
       "<Figure size 800x600 with 1 Axes>"
      ]
     },
     "metadata": {},
     "output_type": "display_data"
    },
    {
     "data": {
      "image/png": "[encoded data removed]",
      "text/plain": [
       "<Figure size 800x600 with 1 Axes>"
      ]
     },
     "metadata": {},
     "output_type": "display_data"
    }
   ],
   "source": [
    "history = model.fit(x=nn_data_train[\"data\"], y=nn_data_train[\"target\"], epochs=150, batch_size=16, validation_split=0.2, verbose=2)\n",
    "plot_history(history)"
   ]
  },
  {
   "cell_type": "markdown",
   "metadata": {},
   "source": [
    "### Evaluate Testdata using model"
   ]
  },
  {
   "cell_type": "code",
   "execution_count": 7,
   "metadata": {},
   "outputs": [
    {
     "name": "stdout",
     "output_type": "stream",
     "text": [
      "2/2 [==============================] - 0s 5ms/step\n"
     ]
    }
   ],
   "source": [
    "pred = model.predict(nn_data_test[\"data\"])\n",
    "classes= [1 if i > 0.5  else 0 for i in pred]\n"
   ]
  },
  {
   "cell_type": "markdown",
   "metadata": {},
   "source": [
    "### Prepare Data for evaluation"
   ]
  },
  {
   "cell_type": "code",
   "execution_count": 8,
   "metadata": {},
   "outputs": [],
   "source": [
    "result_df = pd.DataFrame(columns=nn_data_raw_train.columns[:-1])\n",
    "\n",
    "for i, row in enumerate(nn_data_test[\"data\"]):\n",
    "    data = [i,i]\n",
    "    data.extend(row)\n",
    "    result_df.loc[i+1] = data\n",
    "\n",
    "result_df[\"LABEL\"] = nn_data_test[\"target\"]\n",
    "result_df[\"PRED\"] = classes\n",
    "\n",
    "result_df.to_csv(result_dir / \"SEH/fe_smote_nn.csv\", encoding=\"utf-8\")"
   ]
  }
 ],
 "metadata": {
  "kernelspec": {
   "display_name": "activity_prediction",
   "language": "python",
   "name": "python3"
  },
  "language_info": {
   "codemirror_mode": {
    "name": "ipython",
    "version": 3
   },
   "file_extension": ".py",
   "mimetype": "text/x-python",
   "name": "python",
   "nbconvert_exporter": "python",
   "pygments_lexer": "ipython3",
   "version": "3.10.12"
  }
 },
 "nbformat": 4,
 "nbformat_minor": 2
}
