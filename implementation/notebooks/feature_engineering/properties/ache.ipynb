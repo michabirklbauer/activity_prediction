{
 "cells": [
  {
   "cell_type": "markdown",
   "metadata": {},
   "source": [
    "# Feature Importance using physical properties"
   ]
  },
  {
   "cell_type": "markdown",
   "metadata": {},
   "source": [
    "imports"
   ]
  },
  {
   "cell_type": "code",
   "execution_count": 78,
   "metadata": {},
   "outputs": [],
   "source": [
    "\n",
    "from pathlib import Path\n",
    "import os \n",
    "import re\n",
    "\n",
    "import pandas as pd\n",
    "import numpy as np"
   ]
  },
  {
   "cell_type": "code",
   "execution_count": 79,
   "metadata": {},
   "outputs": [],
   "source": [
    "\n",
    "# read dynamic path\n",
    "base_dir = Path(os.getcwd())/ \"implementation\"\n",
    "data_dir = base_dir / \"data/source/\"\n"
   ]
  },
  {
   "cell_type": "markdown",
   "metadata": {},
   "source": [
    "load data"
   ]
  },
  {
   "cell_type": "code",
   "execution_count": 80,
   "metadata": {},
   "outputs": [],
   "source": [
    "phys_data_raw = pd.read_csv(data_dir/\"ACHE/ache.csv\")\n",
    "phys_data = phys_data_raw.drop(columns=[\"NAME\",\"INDEX\",\"LABEL\"])\n"
   ]
  },
  {
   "cell_type": "markdown",
   "metadata": {},
   "source": [
    "# only fetch 40 most frequent interactions"
   ]
  },
  {
   "cell_type": "code",
   "execution_count": 81,
   "metadata": {},
   "outputs": [],
   "source": [
    "agg_data = phys_data.aggregate([\"sum\"]).sort_values(\"sum\",axis=1,ascending=False)\n",
    "\n",
    "agg_data = agg_data.iloc[:,:40]\n",
    "filter_df = pd.DataFrame()\n",
    "filter_df[\"INDEX\"] = [0]\n",
    "filter_df[\"NAME\"] = [0]\n",
    "\n",
    "top_40_cols = pd.concat([filter_df,agg_data])\n",
    "top_40_cols[\"LABEL\"] = [0,1]\n",
    "\n",
    "top_40 = phys_data_raw.filter(top_40_cols.columns)"
   ]
  },
  {
   "cell_type": "markdown",
   "metadata": {},
   "source": [
    "save results"
   ]
  },
  {
   "cell_type": "code",
   "execution_count": 82,
   "metadata": {},
   "outputs": [],
   "source": [
    "top_40.to_csv(data_dir/\"ACHE/ache_freq.csv\",sep=\",\")"
   ]
  },
  {
   "cell_type": "markdown",
   "metadata": {},
   "source": [
    "# remove hydrophobic interactions"
   ]
  },
  {
   "cell_type": "code",
   "execution_count": 83,
   "metadata": {},
   "outputs": [],
   "source": [
    "cols = phys_data.columns\n",
    "\n",
    "p = re.compile(r\"Hydrophobic_Interaction\")\n",
    "cols = [c for c in cols if not p.match(c)]\n",
    "\n",
    "c = [\"INDEX\",\"NAME\"]\n",
    "c.extend(cols)\n",
    "c.append(\"LABEL\")\n",
    "\n",
    "no_hydrophobic  = phys_data_raw.filter(c)\n"
   ]
  },
  {
   "cell_type": "markdown",
   "metadata": {},
   "source": [
    "save results"
   ]
  },
  {
   "cell_type": "code",
   "execution_count": 84,
   "metadata": {},
   "outputs": [],
   "source": [
    "no_hydrophobic.to_csv(data_dir/\"ACHE/ache_non_hydrop.csv\",sep=\",\")"
   ]
  }
 ],
 "metadata": {
  "kernelspec": {
   "display_name": "activity_prediction",
   "language": "python",
   "name": "python3"
  },
  "language_info": {
   "codemirror_mode": {
    "name": "ipython",
    "version": 3
   },
   "file_extension": ".py",
   "mimetype": "text/x-python",
   "name": "python",
   "nbconvert_exporter": "python",
   "pygments_lexer": "ipython3",
   "version": "3.10.12"
  }
 },
 "nbformat": 4,
 "nbformat_minor": 2
}
