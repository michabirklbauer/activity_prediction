{
 "cells": [
  {
   "cell_type": "markdown",
   "metadata": {},
   "source": [
    "# Feature Importance using physical properties"
   ]
  },
  {
   "cell_type": "markdown",
   "metadata": {},
   "source": [
    "imports"
   ]
  },
  {
   "cell_type": "code",
   "execution_count": 17,
   "metadata": {},
   "outputs": [],
   "source": [
    "\n",
    "from pathlib import Path\n",
    "import os \n",
    "\n",
    "from sklearn.decomposition import PCA\n",
    "\n",
    "\n",
    "import pandas as pd\n",
    "import numpy as np"
   ]
  },
  {
   "cell_type": "code",
   "execution_count": 18,
   "metadata": {},
   "outputs": [],
   "source": [
    "\n",
    "# read dynamic path\n",
    "base_dir = Path(os.getcwd())/ \"implementation\"\n",
    "data_dir = base_dir / \"data/source/\"\n"
   ]
  },
  {
   "cell_type": "markdown",
   "metadata": {},
   "source": [
    "load data"
   ]
  },
  {
   "cell_type": "code",
   "execution_count": 19,
   "metadata": {},
   "outputs": [],
   "source": [
    "pca_data_raw = pd.read_csv(data_dir/\"ACHE/ache.csv\")\n",
    "\n",
    "#format data \n",
    "lookup = {'inactive':0,'active':1}\n",
    "\n",
    "pca_data = {'data': np.array(pca_data_raw.iloc[:, 2:-1]),\n",
    "             'target': np.array([lookup[y] for y in pca_data_raw.iloc[0:,-1]]),\n",
    "             'feature_names': pca_data_raw.columns[2:-1],\n",
    "             'target_names': ['inactive', 'active']}"
   ]
  },
  {
   "cell_type": "markdown",
   "metadata": {},
   "source": [
    "# PCA\n"
   ]
  },
  {
   "cell_type": "code",
   "execution_count": 20,
   "metadata": {},
   "outputs": [
    {
     "name": "stdout",
     "output_type": "stream",
     "text": [
      "Recduced feature count to 30\n"
     ]
    }
   ],
   "source": [
    "pca = PCA(0.85)\n",
    "pca.fit(pca_data[\"data\"])\n",
    "print(f\"Recduced feature count to {pca.n_components_}\")\n",
    "train_img = pca.transform(pca_data[\"data\"])\n"
   ]
  },
  {
   "cell_type": "markdown",
   "metadata": {},
   "source": [
    "save results"
   ]
  },
  {
   "cell_type": "code",
   "execution_count": 21,
   "metadata": {},
   "outputs": [],
   "source": [
    "idx = [\"INDEX\"]\n",
    "idx.extend([i for i in range(len(train_img[0]))])\n",
    "df = pd.DataFrame(columns=idx)\n",
    "for i,r in enumerate(train_img):\n",
    "    row = [i]\n",
    "    row.extend(r)\n",
    "    df.loc[len(df[\"INDEX\"])] = row\n",
    "\n",
    "df[\"LABEL\"] = pca_data_raw.iloc[0:,-1]\n",
    "df = df.drop(columns=[\"INDEX\"])\n",
    "df.to_csv(data_dir/\"ACHE/ache_pca.csv\",sep=\",\")"
   ]
  }
 ],
 "metadata": {
  "kernelspec": {
   "display_name": "activity_prediction",
   "language": "python",
   "name": "python3"
  },
  "language_info": {
   "codemirror_mode": {
    "name": "ipython",
    "version": 3
   },
   "file_extension": ".py",
   "mimetype": "text/x-python",
   "name": "python",
   "nbconvert_exporter": "python",
   "pygments_lexer": "ipython3",
   "version": "3.10.12"
  }
 },
 "nbformat": 4,
 "nbformat_minor": 2
}
