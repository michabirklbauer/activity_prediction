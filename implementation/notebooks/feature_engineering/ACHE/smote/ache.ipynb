{
 "cells": [
  {
   "cell_type": "markdown",
   "metadata": {},
   "source": [
    "# Feature Importance using random forest"
   ]
  },
  {
   "cell_type": "markdown",
   "metadata": {},
   "source": [
    "imports"
   ]
  },
  {
   "cell_type": "code",
   "execution_count": 40,
   "metadata": {},
   "outputs": [],
   "source": [
    "import matplotlib.pyplot as plt \n",
    "\n",
    "from sklearn.model_selection import train_test_split\n",
    "from sklearn.ensemble import RandomForestClassifier\n",
    "from sklearn.inspection import permutation_importance\n",
    "\n",
    "import os \n",
    "from pathlib import Path\n",
    "\n",
    "from imblearn.over_sampling import SMOTE\n",
    "\n",
    "import pandas as pd\n",
    "import numpy as np"
   ]
  },
  {
   "cell_type": "code",
   "execution_count": 41,
   "metadata": {},
   "outputs": [],
   "source": [
    "\n",
    "# read dynamic path\n",
    "base_dir = Path(os.getcwd()) / \"implementation\"\n",
    "data_dir = base_dir / \"data/source/\"\n",
    "result_dir = base_dir / \"data/results/\""
   ]
  },
  {
   "cell_type": "code",
   "execution_count": 42,
   "metadata": {},
   "outputs": [],
   "source": [
    "import numpy as np\n",
    "import pandas as pd\n",
    "import matplotlib.pyplot as plt\n",
    "\n",
    "from enum import Enum\n",
    "from numpy import ndarray\n",
    "\n",
    "def getExpectedValue(dataset) -> ndarray:\n",
    "    return np.mean(dataset)\n",
    "\n",
    "def calculate_rbf_kernel(dataset1, dataset2, sigma: float = 1.0):\n",
    "    sq_dist = np.sum((dataset1[:, np.newaxis] - dataset2) ** 2, axis=-1)\n",
    "    return np.exp(-sq_dist / (2 * sigma ** 2))\n",
    "\n",
    "def calculate_mmd_score(data1, data2):\n",
    "    def kernel(x, y):\n",
    "        \"\"\"\n",
    "        Calculates the kernel matrix between two datasets.\n",
    "\n",
    "        Parameters:\n",
    "        x (numpy array): The first dataset.\n",
    "        y (numpy array): The second dataset.\n",
    "        kernel_type (str): The type of kernel function to use. Must be one of \"rbf\", \"linear\" or \"exponential\".\n",
    "        **kwargs: Additional arguments for the kernel function.\n",
    "\n",
    "        Returns:\n",
    "        numpy array: The kernel matrix between the two datasets.\n",
    "        \"\"\"\n",
    "        pairwise_distances = np.linalg.norm(x[:, np.newaxis] - y, axis=2)\n",
    "        sigma = np.median(pairwise_distances) / np.sqrt(2) + 1e-6\n",
    "        K = calculate_rbf_kernel(x, y, sigma)\n",
    "\n",
    "\n",
    "        return K\n",
    "\n",
    "    # calculate the kernel matrix for each dataset\n",
    "    K_xx = kernel(data1, data1)\n",
    "    K_yy = kernel(data2, data2)\n",
    "    K_xy = kernel(data1, data2)\n",
    "\n",
    "    # calculate MMD^2 score\n",
    "    mmd_sq = getExpectedValue(K_xx) + getExpectedValue(K_yy) - 2 * getExpectedValue(K_xy)\n",
    "\n",
    "    return abs(mmd_sq)"
   ]
  },
  {
   "cell_type": "code",
   "execution_count": 43,
   "metadata": {},
   "outputs": [],
   "source": [
    "smote_data_raw = pd.read_csv(data_dir/\"ACHE/ache.csv\")\n",
    "\n",
    "#format data \n",
    "lookup = {'inactive':0,'active':1}\n",
    "\n",
    "smote_data = {'data': np.array(smote_data_raw.iloc[:, 2:-1]),\n",
    "             'target': np.array([lookup[y] for y in smote_data_raw.iloc[0:,-1]]),\n",
    "             'feature_names': smote_data_raw.columns[2:-1],\n",
    "             'target_names': ['inactive', 'active']}"
   ]
  },
  {
   "cell_type": "code",
   "execution_count": 44,
   "metadata": {},
   "outputs": [],
   "source": [
    "X_train, X_test, y_train, y_test = train_test_split(smote_data['data'], smote_data['target'],\n",
    "                                                    test_size=0.3, random_state=4232)"
   ]
  },
  {
   "cell_type": "code",
   "execution_count": 45,
   "metadata": {},
   "outputs": [
    {
     "data": {
      "text/plain": [
       "0.01456975495408519"
      ]
     },
     "execution_count": 45,
     "metadata": {},
     "output_type": "execute_result"
    }
   ],
   "source": [
    "df = pd.DataFrame(X_train)\n",
    "before_transform = df.to_numpy()\n",
    "\n",
    "sm = SMOTE(random_state=42, k_neighbors=5)\n",
    "X_res, y_res = sm.fit_resample(df, pd.DataFrame(y_train))\n",
    "\n",
    "after_transform = X_res.to_numpy()\n",
    "\n",
    "calculate_mmd_score(before_transform,after_transform)\n",
    "\n"
   ]
  },
  {
   "cell_type": "code",
   "execution_count": 46,
   "metadata": {},
   "outputs": [],
   "source": [
    "# X_train + y_train and export \n",
    "# X_test + y_test and export\n",
    "\n",
    "cols = smote_data_raw.columns\n",
    "df = pd.DataFrame(columns=cols)\n",
    "df = df.drop(columns=[\"NAME\",\"LABEL\"])\n",
    "\n",
    "for i,r in enumerate(X_train):\n",
    "    row = [i]\n",
    "    row.extend(r)\n",
    "    df.loc[len(df[\"INDEX\"])] = row\n",
    "df[\"LABEL\"] = y_train\n",
    "df.to_csv(data_dir/\"ACHE/ache_smote_train.csv\",sep=\",\")\n",
    "\n",
    "\n",
    "cols = smote_data_raw.columns\n",
    "df = pd.DataFrame(columns=cols)\n",
    "df = df.drop(columns=[\"NAME\",\"LABEL\"])\n",
    "\n",
    "for i,r in enumerate(X_test):\n",
    "    row = [i]\n",
    "    row.extend(r)\n",
    "    df.loc[len(df[\"INDEX\"])] = row\n",
    "df[\"LABEL\"] = y_test\n",
    "df.to_csv(data_dir/\"ACHE/ache_smote_test.csv\",sep=\",\")\n"
   ]
  }
 ],
 "metadata": {
  "kernelspec": {
   "display_name": "activity_prediction",
   "language": "python",
   "name": "python3"
  },
  "language_info": {
   "codemirror_mode": {
    "name": "ipython",
    "version": 3
   },
   "file_extension": ".py",
   "mimetype": "text/x-python",
   "name": "python",
   "nbconvert_exporter": "python",
   "pygments_lexer": "ipython3",
   "version": "3.10.12"
  }
 },
 "nbformat": 4,
 "nbformat_minor": 2
}
